{
 "cells": [
  {
   "cell_type": "markdown",
   "metadata": {},
   "source": [
    "## Pre Processing Procedure of adult dataset"
   ]
  },
  {
   "cell_type": "code",
   "execution_count": 74,
   "metadata": {},
   "outputs": [],
   "source": [
    "#Importing necessary packages\n",
    "import pandas as pd \n",
    "import numpy as np\n",
    "import matplotlib.pyplot as plt\n"
   ]
  },
  {
   "cell_type": "markdown",
   "metadata": {},
   "source": [
    "### Dataframe Creation"
   ]
  },
  {
   "cell_type": "code",
   "execution_count": 75,
   "metadata": {},
   "outputs": [],
   "source": [
    "# Reading the data files\n",
    "with open('dataset/adult.data','r') as adult_data:\n",
    "    row_data_array = adult_data.readlines()\n",
    "\n",
    "# Creating an array to store the data by rows in order to change it to differnt columns\n",
    "data_rows = []\n",
    "#Arranging the data columns doing necessary splittings\n",
    "for data_row in row_data_array:\n",
    "    data_rows.append(data_row)\n",
    "\n",
    "# Splitting the dataset to necessary columns\n",
    "dataset_array = []\n",
    "for data_row in data_rows:\n",
    "    dataset_array.append(data_row.split(','))"
   ]
  },
  {
   "cell_type": "code",
   "execution_count": 76,
   "metadata": {},
   "outputs": [
    {
     "data": {
      "text/html": [
       "<div>\n",
       "<style scoped>\n",
       "    .dataframe tbody tr th:only-of-type {\n",
       "        vertical-align: middle;\n",
       "    }\n",
       "\n",
       "    .dataframe tbody tr th {\n",
       "        vertical-align: top;\n",
       "    }\n",
       "\n",
       "    .dataframe thead th {\n",
       "        text-align: right;\n",
       "    }\n",
       "</style>\n",
       "<table border=\"1\" class=\"dataframe\">\n",
       "  <thead>\n",
       "    <tr style=\"text-align: right;\">\n",
       "      <th></th>\n",
       "      <th>0</th>\n",
       "      <th>1</th>\n",
       "      <th>2</th>\n",
       "      <th>3</th>\n",
       "      <th>4</th>\n",
       "      <th>5</th>\n",
       "      <th>6</th>\n",
       "      <th>7</th>\n",
       "      <th>8</th>\n",
       "      <th>9</th>\n",
       "      <th>10</th>\n",
       "      <th>11</th>\n",
       "      <th>12</th>\n",
       "      <th>13</th>\n",
       "      <th>14</th>\n",
       "    </tr>\n",
       "  </thead>\n",
       "  <tbody>\n",
       "    <tr>\n",
       "      <th>0</th>\n",
       "      <td>39</td>\n",
       "      <td>State-gov</td>\n",
       "      <td>77516</td>\n",
       "      <td>Bachelors</td>\n",
       "      <td>13</td>\n",
       "      <td>Never-married</td>\n",
       "      <td>Adm-clerical</td>\n",
       "      <td>Not-in-family</td>\n",
       "      <td>White</td>\n",
       "      <td>Male</td>\n",
       "      <td>2174</td>\n",
       "      <td>0</td>\n",
       "      <td>40</td>\n",
       "      <td>United-States</td>\n",
       "      <td>&lt;=50K\\n</td>\n",
       "    </tr>\n",
       "    <tr>\n",
       "      <th>1</th>\n",
       "      <td>50</td>\n",
       "      <td>Self-emp-not-inc</td>\n",
       "      <td>83311</td>\n",
       "      <td>Bachelors</td>\n",
       "      <td>13</td>\n",
       "      <td>Married-civ-spouse</td>\n",
       "      <td>Exec-managerial</td>\n",
       "      <td>Husband</td>\n",
       "      <td>White</td>\n",
       "      <td>Male</td>\n",
       "      <td>0</td>\n",
       "      <td>0</td>\n",
       "      <td>13</td>\n",
       "      <td>United-States</td>\n",
       "      <td>&lt;=50K\\n</td>\n",
       "    </tr>\n",
       "    <tr>\n",
       "      <th>2</th>\n",
       "      <td>38</td>\n",
       "      <td>Private</td>\n",
       "      <td>215646</td>\n",
       "      <td>HS-grad</td>\n",
       "      <td>9</td>\n",
       "      <td>Divorced</td>\n",
       "      <td>Handlers-cleaners</td>\n",
       "      <td>Not-in-family</td>\n",
       "      <td>White</td>\n",
       "      <td>Male</td>\n",
       "      <td>0</td>\n",
       "      <td>0</td>\n",
       "      <td>40</td>\n",
       "      <td>United-States</td>\n",
       "      <td>&lt;=50K\\n</td>\n",
       "    </tr>\n",
       "    <tr>\n",
       "      <th>3</th>\n",
       "      <td>53</td>\n",
       "      <td>Private</td>\n",
       "      <td>234721</td>\n",
       "      <td>11th</td>\n",
       "      <td>7</td>\n",
       "      <td>Married-civ-spouse</td>\n",
       "      <td>Handlers-cleaners</td>\n",
       "      <td>Husband</td>\n",
       "      <td>Black</td>\n",
       "      <td>Male</td>\n",
       "      <td>0</td>\n",
       "      <td>0</td>\n",
       "      <td>40</td>\n",
       "      <td>United-States</td>\n",
       "      <td>&lt;=50K\\n</td>\n",
       "    </tr>\n",
       "    <tr>\n",
       "      <th>4</th>\n",
       "      <td>28</td>\n",
       "      <td>Private</td>\n",
       "      <td>338409</td>\n",
       "      <td>Bachelors</td>\n",
       "      <td>13</td>\n",
       "      <td>Married-civ-spouse</td>\n",
       "      <td>Prof-specialty</td>\n",
       "      <td>Wife</td>\n",
       "      <td>Black</td>\n",
       "      <td>Female</td>\n",
       "      <td>0</td>\n",
       "      <td>0</td>\n",
       "      <td>40</td>\n",
       "      <td>Cuba</td>\n",
       "      <td>&lt;=50K\\n</td>\n",
       "    </tr>\n",
       "  </tbody>\n",
       "</table>\n",
       "</div>"
      ],
      "text/plain": [
       "   0                  1        2           3    4                    5   \\\n",
       "0  39          State-gov    77516   Bachelors   13        Never-married   \n",
       "1  50   Self-emp-not-inc    83311   Bachelors   13   Married-civ-spouse   \n",
       "2  38            Private   215646     HS-grad    9             Divorced   \n",
       "3  53            Private   234721        11th    7   Married-civ-spouse   \n",
       "4  28            Private   338409   Bachelors   13   Married-civ-spouse   \n",
       "\n",
       "                   6               7       8        9      10  11   12  \\\n",
       "0        Adm-clerical   Not-in-family   White     Male   2174   0   40   \n",
       "1     Exec-managerial         Husband   White     Male      0   0   13   \n",
       "2   Handlers-cleaners   Not-in-family   White     Male      0   0   40   \n",
       "3   Handlers-cleaners         Husband   Black     Male      0   0   40   \n",
       "4      Prof-specialty            Wife   Black   Female      0   0   40   \n",
       "\n",
       "               13        14  \n",
       "0   United-States   <=50K\\n  \n",
       "1   United-States   <=50K\\n  \n",
       "2   United-States   <=50K\\n  \n",
       "3   United-States   <=50K\\n  \n",
       "4            Cuba   <=50K\\n  "
      ]
     },
     "execution_count": 76,
     "metadata": {},
     "output_type": "execute_result"
    }
   ],
   "source": [
    "# Creating the dataset_array to a pandas dataframe in order to work in future\n",
    "adult_dataset = pd.DataFrame(dataset_array)\n",
    "\n",
    "adult_dataset.head(5)"
   ]
  },
  {
   "cell_type": "code",
   "execution_count": 77,
   "metadata": {},
   "outputs": [
    {
     "data": {
      "text/html": [
       "<div>\n",
       "<style scoped>\n",
       "    .dataframe tbody tr th:only-of-type {\n",
       "        vertical-align: middle;\n",
       "    }\n",
       "\n",
       "    .dataframe tbody tr th {\n",
       "        vertical-align: top;\n",
       "    }\n",
       "\n",
       "    .dataframe thead th {\n",
       "        text-align: right;\n",
       "    }\n",
       "</style>\n",
       "<table border=\"1\" class=\"dataframe\">\n",
       "  <thead>\n",
       "    <tr style=\"text-align: right;\">\n",
       "      <th></th>\n",
       "      <th>age</th>\n",
       "      <th>workclass</th>\n",
       "      <th>fnlwgt</th>\n",
       "      <th>education</th>\n",
       "      <th>education-num</th>\n",
       "      <th>marital-status</th>\n",
       "      <th>occupation</th>\n",
       "      <th>relationship</th>\n",
       "      <th>race</th>\n",
       "      <th>sex</th>\n",
       "      <th>capital-gain</th>\n",
       "      <th>capital-loss</th>\n",
       "      <th>hours-per_week</th>\n",
       "      <th>native-country</th>\n",
       "      <th>income-per-year</th>\n",
       "    </tr>\n",
       "  </thead>\n",
       "  <tbody>\n",
       "    <tr>\n",
       "      <th>0</th>\n",
       "      <td>39</td>\n",
       "      <td>State-gov</td>\n",
       "      <td>77516</td>\n",
       "      <td>Bachelors</td>\n",
       "      <td>13</td>\n",
       "      <td>Never-married</td>\n",
       "      <td>Adm-clerical</td>\n",
       "      <td>Not-in-family</td>\n",
       "      <td>White</td>\n",
       "      <td>Male</td>\n",
       "      <td>2174</td>\n",
       "      <td>0</td>\n",
       "      <td>40</td>\n",
       "      <td>United-States</td>\n",
       "      <td>&lt;=50K\\n</td>\n",
       "    </tr>\n",
       "    <tr>\n",
       "      <th>1</th>\n",
       "      <td>50</td>\n",
       "      <td>Self-emp-not-inc</td>\n",
       "      <td>83311</td>\n",
       "      <td>Bachelors</td>\n",
       "      <td>13</td>\n",
       "      <td>Married-civ-spouse</td>\n",
       "      <td>Exec-managerial</td>\n",
       "      <td>Husband</td>\n",
       "      <td>White</td>\n",
       "      <td>Male</td>\n",
       "      <td>0</td>\n",
       "      <td>0</td>\n",
       "      <td>13</td>\n",
       "      <td>United-States</td>\n",
       "      <td>&lt;=50K\\n</td>\n",
       "    </tr>\n",
       "    <tr>\n",
       "      <th>2</th>\n",
       "      <td>38</td>\n",
       "      <td>Private</td>\n",
       "      <td>215646</td>\n",
       "      <td>HS-grad</td>\n",
       "      <td>9</td>\n",
       "      <td>Divorced</td>\n",
       "      <td>Handlers-cleaners</td>\n",
       "      <td>Not-in-family</td>\n",
       "      <td>White</td>\n",
       "      <td>Male</td>\n",
       "      <td>0</td>\n",
       "      <td>0</td>\n",
       "      <td>40</td>\n",
       "      <td>United-States</td>\n",
       "      <td>&lt;=50K\\n</td>\n",
       "    </tr>\n",
       "    <tr>\n",
       "      <th>3</th>\n",
       "      <td>53</td>\n",
       "      <td>Private</td>\n",
       "      <td>234721</td>\n",
       "      <td>11th</td>\n",
       "      <td>7</td>\n",
       "      <td>Married-civ-spouse</td>\n",
       "      <td>Handlers-cleaners</td>\n",
       "      <td>Husband</td>\n",
       "      <td>Black</td>\n",
       "      <td>Male</td>\n",
       "      <td>0</td>\n",
       "      <td>0</td>\n",
       "      <td>40</td>\n",
       "      <td>United-States</td>\n",
       "      <td>&lt;=50K\\n</td>\n",
       "    </tr>\n",
       "    <tr>\n",
       "      <th>4</th>\n",
       "      <td>28</td>\n",
       "      <td>Private</td>\n",
       "      <td>338409</td>\n",
       "      <td>Bachelors</td>\n",
       "      <td>13</td>\n",
       "      <td>Married-civ-spouse</td>\n",
       "      <td>Prof-specialty</td>\n",
       "      <td>Wife</td>\n",
       "      <td>Black</td>\n",
       "      <td>Female</td>\n",
       "      <td>0</td>\n",
       "      <td>0</td>\n",
       "      <td>40</td>\n",
       "      <td>Cuba</td>\n",
       "      <td>&lt;=50K\\n</td>\n",
       "    </tr>\n",
       "  </tbody>\n",
       "</table>\n",
       "</div>"
      ],
      "text/plain": [
       "  age          workclass   fnlwgt   education education-num  \\\n",
       "0  39          State-gov    77516   Bachelors            13   \n",
       "1  50   Self-emp-not-inc    83311   Bachelors            13   \n",
       "2  38            Private   215646     HS-grad             9   \n",
       "3  53            Private   234721        11th             7   \n",
       "4  28            Private   338409   Bachelors            13   \n",
       "\n",
       "        marital-status          occupation    relationship    race      sex  \\\n",
       "0        Never-married        Adm-clerical   Not-in-family   White     Male   \n",
       "1   Married-civ-spouse     Exec-managerial         Husband   White     Male   \n",
       "2             Divorced   Handlers-cleaners   Not-in-family   White     Male   \n",
       "3   Married-civ-spouse   Handlers-cleaners         Husband   Black     Male   \n",
       "4   Married-civ-spouse      Prof-specialty            Wife   Black   Female   \n",
       "\n",
       "  capital-gain capital-loss hours-per_week  native-country income-per-year  \n",
       "0         2174            0             40   United-States         <=50K\\n  \n",
       "1            0            0             13   United-States         <=50K\\n  \n",
       "2            0            0             40   United-States         <=50K\\n  \n",
       "3            0            0             40   United-States         <=50K\\n  \n",
       "4            0            0             40            Cuba         <=50K\\n  "
      ]
     },
     "execution_count": 77,
     "metadata": {},
     "output_type": "execute_result"
    }
   ],
   "source": [
    "# Renaming the Columns with the given names in the adult.names data file to make the dataset more readable\n",
    "adult_dataset.columns = ['age','workclass','fnlwgt','education','education-num','marital-status','occupation','relationship','race','sex','capital-gain','capital-loss','hours-per_week','native-country','income-per-year']\n",
    "\n",
    "# Preview after adding the data columns\n",
    "adult_dataset.head()\n"
   ]
  },
  {
   "cell_type": "code",
   "execution_count": 78,
   "metadata": {},
   "outputs": [],
   "source": [
    "# Saving the dataframe as a csv file for future references.\n",
    "adult_dataset.to_csv('dataset/adult_dataset.csv')"
   ]
  },
  {
   "cell_type": "markdown",
   "metadata": {},
   "source": [
    "### Data Cleaning"
   ]
  },
  {
   "cell_type": "code",
   "execution_count": 79,
   "metadata": {},
   "outputs": [
    {
     "name": "stdout",
     "output_type": "stream",
     "text": [
      "<class 'pandas.core.frame.DataFrame'>\n",
      "RangeIndex: 32562 entries, 0 to 32561\n",
      "Data columns (total 15 columns):\n",
      " #   Column           Non-Null Count  Dtype \n",
      "---  ------           --------------  ----- \n",
      " 0   age              32562 non-null  object\n",
      " 1   workclass        32561 non-null  object\n",
      " 2   fnlwgt           32561 non-null  object\n",
      " 3   education        32561 non-null  object\n",
      " 4   education-num    32561 non-null  object\n",
      " 5   marital-status   32561 non-null  object\n",
      " 6   occupation       32561 non-null  object\n",
      " 7   relationship     32561 non-null  object\n",
      " 8   race             32561 non-null  object\n",
      " 9   sex              32561 non-null  object\n",
      " 10  capital-gain     32561 non-null  object\n",
      " 11  capital-loss     32561 non-null  object\n",
      " 12  hours-per_week   32561 non-null  object\n",
      " 13  native-country   32561 non-null  object\n",
      " 14  income-per-year  32561 non-null  object\n",
      "dtypes: object(15)\n",
      "memory usage: 3.7+ MB\n"
     ]
    }
   ],
   "source": [
    "# General Information of the dataset\n",
    "adult_dataset.info()"
   ]
  },
  {
   "cell_type": "markdown",
   "metadata": {},
   "source": [
    "##### __Duplicate values__"
   ]
  },
  {
   "cell_type": "code",
   "execution_count": 80,
   "metadata": {},
   "outputs": [
    {
     "name": "stdout",
     "output_type": "stream",
     "text": [
      "      age          workclass   fnlwgt      education education-num  \\\n",
      "4881   25            Private   308144      Bachelors            13   \n",
      "5104   90            Private    52386   Some-college            10   \n",
      "9171   21            Private   250051   Some-college            10   \n",
      "11631  20            Private   107658   Some-college            10   \n",
      "13084  25            Private   195994        1st-4th             2   \n",
      "15059  21            Private   243368      Preschool             1   \n",
      "17040  46            Private   173243        HS-grad             9   \n",
      "18555  30            Private   144593        HS-grad             9   \n",
      "18698  19            Private    97261        HS-grad             9   \n",
      "21318  19            Private   138153   Some-college            10   \n",
      "21490  19            Private   146679   Some-college            10   \n",
      "21875  49            Private    31267        7th-8th             4   \n",
      "22300  25            Private   195994        1st-4th             2   \n",
      "22367  44            Private   367749      Bachelors            13   \n",
      "22494  49   Self-emp-not-inc    43479   Some-college            10   \n",
      "25872  23            Private   240137        5th-6th             3   \n",
      "26313  28            Private   274679        Masters            14   \n",
      "28230  27            Private   255582        HS-grad             9   \n",
      "28522  42            Private   204235   Some-college            10   \n",
      "28846  39            Private    30916        HS-grad             9   \n",
      "29157  38            Private   207202        HS-grad             9   \n",
      "30845  46            Private   133616   Some-college            10   \n",
      "31993  19            Private   251579   Some-college            10   \n",
      "32404  35            Private   379959        HS-grad             9   \n",
      "\n",
      "            marital-status          occupation    relationship  \\\n",
      "4881         Never-married        Craft-repair   Not-in-family   \n",
      "5104         Never-married       Other-service   Not-in-family   \n",
      "9171         Never-married      Prof-specialty       Own-child   \n",
      "11631        Never-married        Tech-support   Not-in-family   \n",
      "13084        Never-married     Priv-house-serv   Not-in-family   \n",
      "15059        Never-married     Farming-fishing   Not-in-family   \n",
      "17040   Married-civ-spouse        Craft-repair         Husband   \n",
      "18555        Never-married       Other-service   Not-in-family   \n",
      "18698        Never-married     Farming-fishing   Not-in-family   \n",
      "21318        Never-married        Adm-clerical       Own-child   \n",
      "21490        Never-married     Exec-managerial       Own-child   \n",
      "21875   Married-civ-spouse        Craft-repair         Husband   \n",
      "22300        Never-married     Priv-house-serv   Not-in-family   \n",
      "22367        Never-married      Prof-specialty   Not-in-family   \n",
      "22494   Married-civ-spouse        Craft-repair         Husband   \n",
      "25872        Never-married   Handlers-cleaners   Not-in-family   \n",
      "26313        Never-married      Prof-specialty   Not-in-family   \n",
      "28230        Never-married   Machine-op-inspct   Not-in-family   \n",
      "28522   Married-civ-spouse      Prof-specialty         Husband   \n",
      "28846   Married-civ-spouse        Craft-repair         Husband   \n",
      "29157   Married-civ-spouse   Machine-op-inspct         Husband   \n",
      "30845             Divorced        Adm-clerical       Unmarried   \n",
      "31993        Never-married       Other-service       Own-child   \n",
      "32404             Divorced       Other-service   Not-in-family   \n",
      "\n",
      "                      race      sex capital-gain capital-loss hours-per_week  \\\n",
      "4881                 White     Male            0            0             40   \n",
      "5104    Asian-Pac-Islander     Male            0            0             35   \n",
      "9171                 White   Female            0            0             10   \n",
      "11631                White   Female            0            0             10   \n",
      "13084                White   Female            0            0             40   \n",
      "15059                White     Male            0            0             50   \n",
      "17040                White     Male            0            0             40   \n",
      "18555                Black     Male            0            0             40   \n",
      "18698                White     Male            0            0             40   \n",
      "21318                White   Female            0            0             10   \n",
      "21490                Black     Male            0            0             30   \n",
      "21875                White     Male            0            0             40   \n",
      "22300                White   Female            0            0             40   \n",
      "22367                White   Female            0            0             45   \n",
      "22494                White     Male            0            0             40   \n",
      "25872                White     Male            0            0             55   \n",
      "26313                White     Male            0            0             50   \n",
      "28230                White   Female            0            0             40   \n",
      "28522                White     Male            0            0             40   \n",
      "28846                White     Male            0            0             40   \n",
      "29157                White     Male            0            0             48   \n",
      "30845                White   Female            0            0             40   \n",
      "31993                White     Male            0            0             14   \n",
      "32404                White   Female            0            0             40   \n",
      "\n",
      "       native-country income-per-year  \n",
      "4881           Mexico         <=50K\\n  \n",
      "5104    United-States         <=50K\\n  \n",
      "9171    United-States         <=50K\\n  \n",
      "11631   United-States         <=50K\\n  \n",
      "13084       Guatemala         <=50K\\n  \n",
      "15059          Mexico         <=50K\\n  \n",
      "17040   United-States         <=50K\\n  \n",
      "18555               ?         <=50K\\n  \n",
      "18698   United-States         <=50K\\n  \n",
      "21318   United-States         <=50K\\n  \n",
      "21490   United-States         <=50K\\n  \n",
      "21875   United-States         <=50K\\n  \n",
      "22300       Guatemala         <=50K\\n  \n",
      "22367          Mexico         <=50K\\n  \n",
      "22494   United-States         <=50K\\n  \n",
      "25872          Mexico         <=50K\\n  \n",
      "26313   United-States         <=50K\\n  \n",
      "28230   United-States         <=50K\\n  \n",
      "28522   United-States          >50K\\n  \n",
      "28846   United-States         <=50K\\n  \n",
      "29157   United-States          >50K\\n  \n",
      "30845   United-States         <=50K\\n  \n",
      "31993   United-States         <=50K\\n  \n",
      "32404   United-States         <=50K\\n  \n"
     ]
    }
   ],
   "source": [
    "## Finding duplicate values in the dataset.\n",
    "print(adult_dataset[adult_dataset.duplicated()])\n"
   ]
  },
  {
   "cell_type": "markdown",
   "metadata": {},
   "source": [
    "There are some ___duplicated rows___ in the dataset. So let's get rid of them."
   ]
  },
  {
   "cell_type": "code",
   "execution_count": 81,
   "metadata": {},
   "outputs": [
    {
     "name": "stdout",
     "output_type": "stream",
     "text": [
      "Empty DataFrame\n",
      "Columns: [age, workclass, fnlwgt, education, education-num, marital-status, occupation, relationship, race, sex, capital-gain, capital-loss, hours-per_week, native-country, income-per-year]\n",
      "Index: []\n"
     ]
    }
   ],
   "source": [
    "# Removing the duplicate rows in the dataset.\n",
    "adult_dataset = adult_dataset.drop_duplicates()\n",
    "\n",
    "# Printing the duplicates again in order to finnalized that the dataset get rid of duplicate values.\n",
    "print(adult_dataset[adult_dataset.duplicated()])\n"
   ]
  },
  {
   "cell_type": "markdown",
   "metadata": {},
   "source": [
    "Now the dataset has __no duplicate values__."
   ]
  },
  {
   "cell_type": "markdown",
   "metadata": {},
   "source": [
    "##### __Structural Errors__"
   ]
  },
  {
   "cell_type": "code",
   "execution_count": 82,
   "metadata": {},
   "outputs": [
    {
     "name": "stdout",
     "output_type": "stream",
     "text": [
      "age                   74\n",
      "workclass              9\n",
      "fnlwgt             21648\n",
      "education             16\n",
      "education-num         16\n",
      "marital-status         7\n",
      "occupation            15\n",
      "relationship           6\n",
      "race                   5\n",
      "sex                    2\n",
      "capital-gain         119\n",
      "capital-loss          92\n",
      "hours-per_week        94\n",
      "native-country        42\n",
      "income-per-year        2\n",
      "dtype: int64\n"
     ]
    }
   ],
   "source": [
    "# Checking for unique values in the dataset.\n",
    "print(adult_dataset.nunique())"
   ]
  },
  {
   "cell_type": "code",
   "execution_count": 83,
   "metadata": {},
   "outputs": [
    {
     "name": "stdout",
     "output_type": "stream",
     "text": [
      "age\n",
      "['39' '50' '38' '53' '28' '37' '49' '52' '31' '42' '30' '23' '32' '40'\n",
      " '34' '25' '43' '54' '35' '59' '56' '19' '20' '45' '22' '48' '21' '24'\n",
      " '57' '44' '41' '29' '18' '47' '46' '36' '79' '27' '67' '33' '76' '17'\n",
      " '55' '61' '70' '64' '71' '68' '66' '51' '58' '26' '60' '90' '75' '65'\n",
      " '77' '62' '63' '80' '72' '74' '69' '73' '81' '78' '88' '82' '83' '84'\n",
      " '85' '86' '87' '\\n']\n",
      "\n",
      "\n",
      "workclass\n",
      "[' State-gov' ' Self-emp-not-inc' ' Private' ' Federal-gov' ' Local-gov'\n",
      " ' ?' ' Self-emp-inc' ' Without-pay' ' Never-worked' None]\n",
      "\n",
      "\n",
      "fnlwgt\n",
      "[' 77516' ' 83311' ' 215646' ... ' 84661' ' 257302' None]\n",
      "\n",
      "\n",
      "education\n",
      "[' Bachelors' ' HS-grad' ' 11th' ' Masters' ' 9th' ' Some-college'\n",
      " ' Assoc-acdm' ' Assoc-voc' ' 7th-8th' ' Doctorate' ' Prof-school'\n",
      " ' 5th-6th' ' 10th' ' 1st-4th' ' Preschool' ' 12th' None]\n",
      "\n",
      "\n",
      "education-num\n",
      "[' 13' ' 9' ' 7' ' 14' ' 5' ' 10' ' 12' ' 11' ' 4' ' 16' ' 15' ' 3' ' 6'\n",
      " ' 2' ' 1' ' 8' None]\n",
      "\n",
      "\n",
      "marital-status\n",
      "[' Never-married' ' Married-civ-spouse' ' Divorced'\n",
      " ' Married-spouse-absent' ' Separated' ' Married-AF-spouse' ' Widowed'\n",
      " None]\n",
      "\n",
      "\n",
      "occupation\n",
      "[' Adm-clerical' ' Exec-managerial' ' Handlers-cleaners' ' Prof-specialty'\n",
      " ' Other-service' ' Sales' ' Craft-repair' ' Transport-moving'\n",
      " ' Farming-fishing' ' Machine-op-inspct' ' Tech-support' ' ?'\n",
      " ' Protective-serv' ' Armed-Forces' ' Priv-house-serv' None]\n",
      "\n",
      "\n",
      "relationship\n",
      "[' Not-in-family' ' Husband' ' Wife' ' Own-child' ' Unmarried'\n",
      " ' Other-relative' None]\n",
      "\n",
      "\n",
      "race\n",
      "[' White' ' Black' ' Asian-Pac-Islander' ' Amer-Indian-Eskimo' ' Other'\n",
      " None]\n",
      "\n",
      "\n",
      "sex\n",
      "[' Male' ' Female' None]\n",
      "\n",
      "\n",
      "capital-gain\n",
      "[' 2174' ' 0' ' 14084' ' 5178' ' 5013' ' 2407' ' 14344' ' 15024' ' 7688'\n",
      " ' 34095' ' 4064' ' 4386' ' 7298' ' 1409' ' 3674' ' 1055' ' 3464' ' 2050'\n",
      " ' 2176' ' 594' ' 20051' ' 6849' ' 4101' ' 1111' ' 8614' ' 3411' ' 2597'\n",
      " ' 25236' ' 4650' ' 9386' ' 2463' ' 3103' ' 10605' ' 2964' ' 3325' ' 2580'\n",
      " ' 3471' ' 4865' ' 99999' ' 6514' ' 1471' ' 2329' ' 2105' ' 2885' ' 25124'\n",
      " ' 10520' ' 2202' ' 2961' ' 27828' ' 6767' ' 2228' ' 1506' ' 13550'\n",
      " ' 2635' ' 5556' ' 4787' ' 3781' ' 3137' ' 3818' ' 3942' ' 914' ' 401'\n",
      " ' 2829' ' 2977' ' 4934' ' 2062' ' 2354' ' 5455' ' 15020' ' 1424' ' 3273'\n",
      " ' 22040' ' 4416' ' 3908' ' 10566' ' 991' ' 4931' ' 1086' ' 7430' ' 6497'\n",
      " ' 114' ' 7896' ' 2346' ' 3418' ' 3432' ' 2907' ' 1151' ' 2414' ' 2290'\n",
      " ' 15831' ' 41310' ' 4508' ' 2538' ' 3456' ' 6418' ' 1848' ' 3887' ' 5721'\n",
      " ' 9562' ' 1455' ' 2036' ' 1831' ' 11678' ' 2936' ' 2993' ' 7443' ' 6360'\n",
      " ' 1797' ' 1173' ' 4687' ' 6723' ' 2009' ' 6097' ' 2653' ' 1639' ' 18481'\n",
      " ' 7978' ' 2387' ' 5060' None]\n",
      "\n",
      "\n",
      "capital-loss\n",
      "[' 0' ' 2042' ' 1408' ' 1902' ' 1573' ' 1887' ' 1719' ' 1762' ' 1564'\n",
      " ' 2179' ' 1816' ' 1980' ' 1977' ' 1876' ' 1340' ' 2206' ' 1741' ' 1485'\n",
      " ' 2339' ' 2415' ' 1380' ' 1721' ' 2051' ' 2377' ' 1669' ' 2352' ' 1672'\n",
      " ' 653' ' 2392' ' 1504' ' 2001' ' 1590' ' 1651' ' 1628' ' 1848' ' 1740'\n",
      " ' 2002' ' 1579' ' 2258' ' 1602' ' 419' ' 2547' ' 2174' ' 2205' ' 1726'\n",
      " ' 2444' ' 1138' ' 2238' ' 625' ' 213' ' 1539' ' 880' ' 1668' ' 1092'\n",
      " ' 1594' ' 3004' ' 2231' ' 1844' ' 810' ' 2824' ' 2559' ' 2057' ' 1974'\n",
      " ' 974' ' 2149' ' 1825' ' 1735' ' 1258' ' 2129' ' 2603' ' 2282' ' 323'\n",
      " ' 4356' ' 2246' ' 1617' ' 1648' ' 2489' ' 3770' ' 1755' ' 3683' ' 2267'\n",
      " ' 2080' ' 2457' ' 155' ' 3900' ' 2201' ' 1944' ' 2467' ' 2163' ' 2754'\n",
      " ' 2472' ' 1411' None]\n",
      "\n",
      "\n",
      "hours-per_week\n",
      "[' 40' ' 13' ' 16' ' 45' ' 50' ' 80' ' 30' ' 35' ' 60' ' 20' ' 52' ' 44'\n",
      " ' 15' ' 25' ' 38' ' 43' ' 55' ' 48' ' 58' ' 32' ' 70' ' 2' ' 22' ' 56'\n",
      " ' 41' ' 28' ' 36' ' 24' ' 46' ' 42' ' 12' ' 65' ' 1' ' 10' ' 34' ' 75'\n",
      " ' 98' ' 33' ' 54' ' 8' ' 6' ' 64' ' 19' ' 18' ' 72' ' 5' ' 9' ' 47' ' 37'\n",
      " ' 21' ' 26' ' 14' ' 4' ' 59' ' 7' ' 99' ' 53' ' 39' ' 62' ' 57' ' 78'\n",
      " ' 90' ' 66' ' 11' ' 49' ' 84' ' 3' ' 17' ' 68' ' 27' ' 85' ' 31' ' 51'\n",
      " ' 77' ' 63' ' 23' ' 87' ' 88' ' 73' ' 89' ' 97' ' 94' ' 29' ' 96' ' 67'\n",
      " ' 82' ' 86' ' 91' ' 81' ' 76' ' 92' ' 61' ' 74' ' 95' None]\n",
      "\n",
      "\n",
      "native-country\n",
      "[' United-States' ' Cuba' ' Jamaica' ' India' ' ?' ' Mexico' ' South'\n",
      " ' Puerto-Rico' ' Honduras' ' England' ' Canada' ' Germany' ' Iran'\n",
      " ' Philippines' ' Italy' ' Poland' ' Columbia' ' Cambodia' ' Thailand'\n",
      " ' Ecuador' ' Laos' ' Taiwan' ' Haiti' ' Portugal' ' Dominican-Republic'\n",
      " ' El-Salvador' ' France' ' Guatemala' ' China' ' Japan' ' Yugoslavia'\n",
      " ' Peru' ' Outlying-US(Guam-USVI-etc)' ' Scotland' ' Trinadad&Tobago'\n",
      " ' Greece' ' Nicaragua' ' Vietnam' ' Hong' ' Ireland' ' Hungary'\n",
      " ' Holand-Netherlands' None]\n",
      "\n",
      "\n",
      "income-per-year\n",
      "[' <=50K\\n' ' >50K\\n' None]\n",
      "\n",
      "\n"
     ]
    }
   ],
   "source": [
    "# Printing each unique value in a column\n",
    "for column in adult_dataset:\n",
    "    print(column)\n",
    "    print(adult_dataset[column].unique())\n",
    "    print('\\n')"
   ]
  },
  {
   "cell_type": "markdown",
   "metadata": {},
   "source": [
    "You can see that there is a newline code in age category which seems not suitable. Also in every column there is Nothing at the ends seems suspicious. Let's Check it."
   ]
  },
  {
   "cell_type": "code",
   "execution_count": 84,
   "metadata": {},
   "outputs": [
    {
     "data": {
      "text/html": [
       "<div>\n",
       "<style scoped>\n",
       "    .dataframe tbody tr th:only-of-type {\n",
       "        vertical-align: middle;\n",
       "    }\n",
       "\n",
       "    .dataframe tbody tr th {\n",
       "        vertical-align: top;\n",
       "    }\n",
       "\n",
       "    .dataframe thead th {\n",
       "        text-align: right;\n",
       "    }\n",
       "</style>\n",
       "<table border=\"1\" class=\"dataframe\">\n",
       "  <thead>\n",
       "    <tr style=\"text-align: right;\">\n",
       "      <th></th>\n",
       "      <th>age</th>\n",
       "      <th>workclass</th>\n",
       "      <th>fnlwgt</th>\n",
       "      <th>education</th>\n",
       "      <th>education-num</th>\n",
       "      <th>marital-status</th>\n",
       "      <th>occupation</th>\n",
       "      <th>relationship</th>\n",
       "      <th>race</th>\n",
       "      <th>sex</th>\n",
       "      <th>capital-gain</th>\n",
       "      <th>capital-loss</th>\n",
       "      <th>hours-per_week</th>\n",
       "      <th>native-country</th>\n",
       "      <th>income-per-year</th>\n",
       "    </tr>\n",
       "  </thead>\n",
       "  <tbody>\n",
       "    <tr>\n",
       "      <th>32561</th>\n",
       "      <td>\\n</td>\n",
       "      <td>None</td>\n",
       "      <td>None</td>\n",
       "      <td>None</td>\n",
       "      <td>None</td>\n",
       "      <td>None</td>\n",
       "      <td>None</td>\n",
       "      <td>None</td>\n",
       "      <td>None</td>\n",
       "      <td>None</td>\n",
       "      <td>None</td>\n",
       "      <td>None</td>\n",
       "      <td>None</td>\n",
       "      <td>None</td>\n",
       "      <td>None</td>\n",
       "    </tr>\n",
       "  </tbody>\n",
       "</table>\n",
       "</div>"
      ],
      "text/plain": [
       "      age workclass fnlwgt education education-num marital-status occupation  \\\n",
       "32561  \\n      None   None      None          None           None       None   \n",
       "\n",
       "      relationship  race   sex capital-gain capital-loss hours-per_week  \\\n",
       "32561         None  None  None         None         None           None   \n",
       "\n",
       "      native-country income-per-year  \n",
       "32561           None            None  "
      ]
     },
     "execution_count": 84,
     "metadata": {},
     "output_type": "execute_result"
    }
   ],
   "source": [
    "# Checking the last row of the dataset\n",
    "adult_dataset.tail(1)"
   ]
  },
  {
   "cell_type": "code",
   "execution_count": 85,
   "metadata": {},
   "outputs": [
    {
     "data": {
      "text/html": [
       "<div>\n",
       "<style scoped>\n",
       "    .dataframe tbody tr th:only-of-type {\n",
       "        vertical-align: middle;\n",
       "    }\n",
       "\n",
       "    .dataframe tbody tr th {\n",
       "        vertical-align: top;\n",
       "    }\n",
       "\n",
       "    .dataframe thead th {\n",
       "        text-align: right;\n",
       "    }\n",
       "</style>\n",
       "<table border=\"1\" class=\"dataframe\">\n",
       "  <thead>\n",
       "    <tr style=\"text-align: right;\">\n",
       "      <th></th>\n",
       "      <th>age</th>\n",
       "      <th>workclass</th>\n",
       "      <th>fnlwgt</th>\n",
       "      <th>education</th>\n",
       "      <th>education-num</th>\n",
       "      <th>marital-status</th>\n",
       "      <th>occupation</th>\n",
       "      <th>relationship</th>\n",
       "      <th>race</th>\n",
       "      <th>sex</th>\n",
       "      <th>capital-gain</th>\n",
       "      <th>capital-loss</th>\n",
       "      <th>hours-per_week</th>\n",
       "      <th>native-country</th>\n",
       "      <th>income-per-year</th>\n",
       "    </tr>\n",
       "  </thead>\n",
       "  <tbody>\n",
       "    <tr>\n",
       "      <th>32560</th>\n",
       "      <td>52</td>\n",
       "      <td>Self-emp-inc</td>\n",
       "      <td>287927</td>\n",
       "      <td>HS-grad</td>\n",
       "      <td>9</td>\n",
       "      <td>Married-civ-spouse</td>\n",
       "      <td>Exec-managerial</td>\n",
       "      <td>Wife</td>\n",
       "      <td>White</td>\n",
       "      <td>Female</td>\n",
       "      <td>15024</td>\n",
       "      <td>0</td>\n",
       "      <td>40</td>\n",
       "      <td>United-States</td>\n",
       "      <td>&gt;50K\\n</td>\n",
       "    </tr>\n",
       "  </tbody>\n",
       "</table>\n",
       "</div>"
      ],
      "text/plain": [
       "      age      workclass   fnlwgt education education-num  \\\n",
       "32560  52   Self-emp-inc   287927   HS-grad             9   \n",
       "\n",
       "            marital-status        occupation relationship    race      sex  \\\n",
       "32560   Married-civ-spouse   Exec-managerial         Wife   White   Female   \n",
       "\n",
       "      capital-gain capital-loss hours-per_week  native-country income-per-year  \n",
       "32560        15024            0             40   United-States          >50K\\n  "
      ]
     },
     "execution_count": 85,
     "metadata": {},
     "output_type": "execute_result"
    }
   ],
   "source": [
    "# Dropping the last column based on index\n",
    "adult_dataset = adult_dataset.drop(index=32561)\n",
    "\n",
    "adult_dataset.tail(1)"
   ]
  },
  {
   "cell_type": "markdown",
   "metadata": {},
   "source": [
    "There is some question marks as unique values in work class, occupation as well as in native-country columns which seems doesn't really have meaning. So let's get rid of them."
   ]
  },
  {
   "cell_type": "code",
   "execution_count": 86,
   "metadata": {},
   "outputs": [],
   "source": [
    "# Checking the values in those columns and get rid of question marks\n",
    "adult_dataset.replace(' ?', pd.NA, inplace=True)"
   ]
  },
  {
   "cell_type": "code",
   "execution_count": 87,
   "metadata": {},
   "outputs": [
    {
     "name": "stdout",
     "output_type": "stream",
     "text": [
      "age\n",
      "['39' '50' '38' '53' '28' '37' '49' '52' '31' '42' '30' '23' '32' '40'\n",
      " '34' '25' '43' '54' '35' '59' '56' '19' '20' '45' '22' '48' '21' '24'\n",
      " '57' '44' '41' '29' '18' '47' '46' '36' '79' '27' '67' '33' '76' '17'\n",
      " '55' '61' '70' '64' '71' '68' '66' '51' '58' '26' '60' '90' '75' '65'\n",
      " '77' '62' '63' '80' '72' '74' '69' '73' '81' '78' '88' '82' '83' '84'\n",
      " '85' '86' '87']\n",
      "\n",
      "\n",
      "workclass\n",
      "[' State-gov' ' Self-emp-not-inc' ' Private' ' Federal-gov' ' Local-gov'\n",
      " <NA> ' Self-emp-inc' ' Without-pay' ' Never-worked']\n",
      "\n",
      "\n",
      "fnlwgt\n",
      "[' 77516' ' 83311' ' 215646' ... ' 34066' ' 84661' ' 257302']\n",
      "\n",
      "\n",
      "education\n",
      "[' Bachelors' ' HS-grad' ' 11th' ' Masters' ' 9th' ' Some-college'\n",
      " ' Assoc-acdm' ' Assoc-voc' ' 7th-8th' ' Doctorate' ' Prof-school'\n",
      " ' 5th-6th' ' 10th' ' 1st-4th' ' Preschool' ' 12th']\n",
      "\n",
      "\n",
      "education-num\n",
      "[' 13' ' 9' ' 7' ' 14' ' 5' ' 10' ' 12' ' 11' ' 4' ' 16' ' 15' ' 3' ' 6'\n",
      " ' 2' ' 1' ' 8']\n",
      "\n",
      "\n",
      "marital-status\n",
      "[' Never-married' ' Married-civ-spouse' ' Divorced'\n",
      " ' Married-spouse-absent' ' Separated' ' Married-AF-spouse' ' Widowed']\n",
      "\n",
      "\n",
      "occupation\n",
      "[' Adm-clerical' ' Exec-managerial' ' Handlers-cleaners' ' Prof-specialty'\n",
      " ' Other-service' ' Sales' ' Craft-repair' ' Transport-moving'\n",
      " ' Farming-fishing' ' Machine-op-inspct' ' Tech-support' <NA>\n",
      " ' Protective-serv' ' Armed-Forces' ' Priv-house-serv']\n",
      "\n",
      "\n",
      "relationship\n",
      "[' Not-in-family' ' Husband' ' Wife' ' Own-child' ' Unmarried'\n",
      " ' Other-relative']\n",
      "\n",
      "\n",
      "race\n",
      "[' White' ' Black' ' Asian-Pac-Islander' ' Amer-Indian-Eskimo' ' Other']\n",
      "\n",
      "\n",
      "sex\n",
      "[' Male' ' Female']\n",
      "\n",
      "\n",
      "capital-gain\n",
      "[' 2174' ' 0' ' 14084' ' 5178' ' 5013' ' 2407' ' 14344' ' 15024' ' 7688'\n",
      " ' 34095' ' 4064' ' 4386' ' 7298' ' 1409' ' 3674' ' 1055' ' 3464' ' 2050'\n",
      " ' 2176' ' 594' ' 20051' ' 6849' ' 4101' ' 1111' ' 8614' ' 3411' ' 2597'\n",
      " ' 25236' ' 4650' ' 9386' ' 2463' ' 3103' ' 10605' ' 2964' ' 3325' ' 2580'\n",
      " ' 3471' ' 4865' ' 99999' ' 6514' ' 1471' ' 2329' ' 2105' ' 2885' ' 25124'\n",
      " ' 10520' ' 2202' ' 2961' ' 27828' ' 6767' ' 2228' ' 1506' ' 13550'\n",
      " ' 2635' ' 5556' ' 4787' ' 3781' ' 3137' ' 3818' ' 3942' ' 914' ' 401'\n",
      " ' 2829' ' 2977' ' 4934' ' 2062' ' 2354' ' 5455' ' 15020' ' 1424' ' 3273'\n",
      " ' 22040' ' 4416' ' 3908' ' 10566' ' 991' ' 4931' ' 1086' ' 7430' ' 6497'\n",
      " ' 114' ' 7896' ' 2346' ' 3418' ' 3432' ' 2907' ' 1151' ' 2414' ' 2290'\n",
      " ' 15831' ' 41310' ' 4508' ' 2538' ' 3456' ' 6418' ' 1848' ' 3887' ' 5721'\n",
      " ' 9562' ' 1455' ' 2036' ' 1831' ' 11678' ' 2936' ' 2993' ' 7443' ' 6360'\n",
      " ' 1797' ' 1173' ' 4687' ' 6723' ' 2009' ' 6097' ' 2653' ' 1639' ' 18481'\n",
      " ' 7978' ' 2387' ' 5060']\n",
      "\n",
      "\n",
      "capital-loss\n",
      "[' 0' ' 2042' ' 1408' ' 1902' ' 1573' ' 1887' ' 1719' ' 1762' ' 1564'\n",
      " ' 2179' ' 1816' ' 1980' ' 1977' ' 1876' ' 1340' ' 2206' ' 1741' ' 1485'\n",
      " ' 2339' ' 2415' ' 1380' ' 1721' ' 2051' ' 2377' ' 1669' ' 2352' ' 1672'\n",
      " ' 653' ' 2392' ' 1504' ' 2001' ' 1590' ' 1651' ' 1628' ' 1848' ' 1740'\n",
      " ' 2002' ' 1579' ' 2258' ' 1602' ' 419' ' 2547' ' 2174' ' 2205' ' 1726'\n",
      " ' 2444' ' 1138' ' 2238' ' 625' ' 213' ' 1539' ' 880' ' 1668' ' 1092'\n",
      " ' 1594' ' 3004' ' 2231' ' 1844' ' 810' ' 2824' ' 2559' ' 2057' ' 1974'\n",
      " ' 974' ' 2149' ' 1825' ' 1735' ' 1258' ' 2129' ' 2603' ' 2282' ' 323'\n",
      " ' 4356' ' 2246' ' 1617' ' 1648' ' 2489' ' 3770' ' 1755' ' 3683' ' 2267'\n",
      " ' 2080' ' 2457' ' 155' ' 3900' ' 2201' ' 1944' ' 2467' ' 2163' ' 2754'\n",
      " ' 2472' ' 1411']\n",
      "\n",
      "\n",
      "hours-per_week\n",
      "[' 40' ' 13' ' 16' ' 45' ' 50' ' 80' ' 30' ' 35' ' 60' ' 20' ' 52' ' 44'\n",
      " ' 15' ' 25' ' 38' ' 43' ' 55' ' 48' ' 58' ' 32' ' 70' ' 2' ' 22' ' 56'\n",
      " ' 41' ' 28' ' 36' ' 24' ' 46' ' 42' ' 12' ' 65' ' 1' ' 10' ' 34' ' 75'\n",
      " ' 98' ' 33' ' 54' ' 8' ' 6' ' 64' ' 19' ' 18' ' 72' ' 5' ' 9' ' 47' ' 37'\n",
      " ' 21' ' 26' ' 14' ' 4' ' 59' ' 7' ' 99' ' 53' ' 39' ' 62' ' 57' ' 78'\n",
      " ' 90' ' 66' ' 11' ' 49' ' 84' ' 3' ' 17' ' 68' ' 27' ' 85' ' 31' ' 51'\n",
      " ' 77' ' 63' ' 23' ' 87' ' 88' ' 73' ' 89' ' 97' ' 94' ' 29' ' 96' ' 67'\n",
      " ' 82' ' 86' ' 91' ' 81' ' 76' ' 92' ' 61' ' 74' ' 95']\n",
      "\n",
      "\n",
      "native-country\n",
      "[' United-States' ' Cuba' ' Jamaica' ' India' <NA> ' Mexico' ' South'\n",
      " ' Puerto-Rico' ' Honduras' ' England' ' Canada' ' Germany' ' Iran'\n",
      " ' Philippines' ' Italy' ' Poland' ' Columbia' ' Cambodia' ' Thailand'\n",
      " ' Ecuador' ' Laos' ' Taiwan' ' Haiti' ' Portugal' ' Dominican-Republic'\n",
      " ' El-Salvador' ' France' ' Guatemala' ' China' ' Japan' ' Yugoslavia'\n",
      " ' Peru' ' Outlying-US(Guam-USVI-etc)' ' Scotland' ' Trinadad&Tobago'\n",
      " ' Greece' ' Nicaragua' ' Vietnam' ' Hong' ' Ireland' ' Hungary'\n",
      " ' Holand-Netherlands']\n",
      "\n",
      "\n",
      "income-per-year\n",
      "[' <=50K\\n' ' >50K\\n']\n",
      "\n",
      "\n"
     ]
    }
   ],
   "source": [
    "# Check for unique values again to make sure that we get rid of all the unnecessary things\n",
    "for column in adult_dataset:\n",
    "    print(column)\n",
    "    print(adult_dataset[column].unique())\n",
    "    print('\\n')"
   ]
  },
  {
   "cell_type": "markdown",
   "metadata": {},
   "source": [
    "There is a new line added to the every data row in income per year. Therefore get rid of them."
   ]
  },
  {
   "cell_type": "code",
   "execution_count": 88,
   "metadata": {},
   "outputs": [
    {
     "data": {
      "text/html": [
       "<div>\n",
       "<style scoped>\n",
       "    .dataframe tbody tr th:only-of-type {\n",
       "        vertical-align: middle;\n",
       "    }\n",
       "\n",
       "    .dataframe tbody tr th {\n",
       "        vertical-align: top;\n",
       "    }\n",
       "\n",
       "    .dataframe thead th {\n",
       "        text-align: right;\n",
       "    }\n",
       "</style>\n",
       "<table border=\"1\" class=\"dataframe\">\n",
       "  <thead>\n",
       "    <tr style=\"text-align: right;\">\n",
       "      <th></th>\n",
       "      <th>age</th>\n",
       "      <th>workclass</th>\n",
       "      <th>fnlwgt</th>\n",
       "      <th>education</th>\n",
       "      <th>education-num</th>\n",
       "      <th>marital-status</th>\n",
       "      <th>occupation</th>\n",
       "      <th>relationship</th>\n",
       "      <th>race</th>\n",
       "      <th>sex</th>\n",
       "      <th>capital-gain</th>\n",
       "      <th>capital-loss</th>\n",
       "      <th>hours-per_week</th>\n",
       "      <th>native-country</th>\n",
       "      <th>income-per-year</th>\n",
       "    </tr>\n",
       "  </thead>\n",
       "  <tbody>\n",
       "    <tr>\n",
       "      <th>0</th>\n",
       "      <td>39</td>\n",
       "      <td>State-gov</td>\n",
       "      <td>77516</td>\n",
       "      <td>Bachelors</td>\n",
       "      <td>13</td>\n",
       "      <td>Never-married</td>\n",
       "      <td>Adm-clerical</td>\n",
       "      <td>Not-in-family</td>\n",
       "      <td>White</td>\n",
       "      <td>Male</td>\n",
       "      <td>2174</td>\n",
       "      <td>0</td>\n",
       "      <td>40</td>\n",
       "      <td>United-States</td>\n",
       "      <td>&lt;=50K</td>\n",
       "    </tr>\n",
       "    <tr>\n",
       "      <th>1</th>\n",
       "      <td>50</td>\n",
       "      <td>Self-emp-not-inc</td>\n",
       "      <td>83311</td>\n",
       "      <td>Bachelors</td>\n",
       "      <td>13</td>\n",
       "      <td>Married-civ-spouse</td>\n",
       "      <td>Exec-managerial</td>\n",
       "      <td>Husband</td>\n",
       "      <td>White</td>\n",
       "      <td>Male</td>\n",
       "      <td>0</td>\n",
       "      <td>0</td>\n",
       "      <td>13</td>\n",
       "      <td>United-States</td>\n",
       "      <td>&lt;=50K</td>\n",
       "    </tr>\n",
       "    <tr>\n",
       "      <th>2</th>\n",
       "      <td>38</td>\n",
       "      <td>Private</td>\n",
       "      <td>215646</td>\n",
       "      <td>HS-grad</td>\n",
       "      <td>9</td>\n",
       "      <td>Divorced</td>\n",
       "      <td>Handlers-cleaners</td>\n",
       "      <td>Not-in-family</td>\n",
       "      <td>White</td>\n",
       "      <td>Male</td>\n",
       "      <td>0</td>\n",
       "      <td>0</td>\n",
       "      <td>40</td>\n",
       "      <td>United-States</td>\n",
       "      <td>&lt;=50K</td>\n",
       "    </tr>\n",
       "    <tr>\n",
       "      <th>3</th>\n",
       "      <td>53</td>\n",
       "      <td>Private</td>\n",
       "      <td>234721</td>\n",
       "      <td>11th</td>\n",
       "      <td>7</td>\n",
       "      <td>Married-civ-spouse</td>\n",
       "      <td>Handlers-cleaners</td>\n",
       "      <td>Husband</td>\n",
       "      <td>Black</td>\n",
       "      <td>Male</td>\n",
       "      <td>0</td>\n",
       "      <td>0</td>\n",
       "      <td>40</td>\n",
       "      <td>United-States</td>\n",
       "      <td>&lt;=50K</td>\n",
       "    </tr>\n",
       "    <tr>\n",
       "      <th>4</th>\n",
       "      <td>28</td>\n",
       "      <td>Private</td>\n",
       "      <td>338409</td>\n",
       "      <td>Bachelors</td>\n",
       "      <td>13</td>\n",
       "      <td>Married-civ-spouse</td>\n",
       "      <td>Prof-specialty</td>\n",
       "      <td>Wife</td>\n",
       "      <td>Black</td>\n",
       "      <td>Female</td>\n",
       "      <td>0</td>\n",
       "      <td>0</td>\n",
       "      <td>40</td>\n",
       "      <td>Cuba</td>\n",
       "      <td>&lt;=50K</td>\n",
       "    </tr>\n",
       "  </tbody>\n",
       "</table>\n",
       "</div>"
      ],
      "text/plain": [
       "  age          workclass   fnlwgt   education education-num  \\\n",
       "0  39          State-gov    77516   Bachelors            13   \n",
       "1  50   Self-emp-not-inc    83311   Bachelors            13   \n",
       "2  38            Private   215646     HS-grad             9   \n",
       "3  53            Private   234721        11th             7   \n",
       "4  28            Private   338409   Bachelors            13   \n",
       "\n",
       "        marital-status          occupation    relationship    race      sex  \\\n",
       "0        Never-married        Adm-clerical   Not-in-family   White     Male   \n",
       "1   Married-civ-spouse     Exec-managerial         Husband   White     Male   \n",
       "2             Divorced   Handlers-cleaners   Not-in-family   White     Male   \n",
       "3   Married-civ-spouse   Handlers-cleaners         Husband   Black     Male   \n",
       "4   Married-civ-spouse      Prof-specialty            Wife   Black   Female   \n",
       "\n",
       "  capital-gain capital-loss hours-per_week  native-country income-per-year  \n",
       "0         2174            0             40   United-States           <=50K  \n",
       "1            0            0             13   United-States           <=50K  \n",
       "2            0            0             40   United-States           <=50K  \n",
       "3            0            0             40   United-States           <=50K  \n",
       "4            0            0             40            Cuba           <=50K  "
      ]
     },
     "execution_count": 88,
     "metadata": {},
     "output_type": "execute_result"
    }
   ],
   "source": [
    "# Removing the '\\n' in income-per-year column.\n",
    "adult_dataset['income-per-year'] = adult_dataset['income-per-year'].str.strip('\\n')\n",
    "\n",
    "# Removing the whitespaces in the income-per-year column\n",
    "adult_dataset['income-per-year'] = adult_dataset['income-per-year'].str.strip(' ')\n",
    "\n",
    "adult_dataset.head()"
   ]
  },
  {
   "cell_type": "markdown",
   "metadata": {},
   "source": [
    "### Fill Null values"
   ]
  },
  {
   "cell_type": "code",
   "execution_count": 89,
   "metadata": {},
   "outputs": [
    {
     "name": "stdout",
     "output_type": "stream",
     "text": [
      "<class 'pandas.core.frame.DataFrame'>\n",
      "Index: 32537 entries, 0 to 32560\n",
      "Data columns (total 15 columns):\n",
      " #   Column           Non-Null Count  Dtype \n",
      "---  ------           --------------  ----- \n",
      " 0   age              32537 non-null  object\n",
      " 1   workclass        30701 non-null  object\n",
      " 2   fnlwgt           32537 non-null  object\n",
      " 3   education        32537 non-null  object\n",
      " 4   education-num    32537 non-null  object\n",
      " 5   marital-status   32537 non-null  object\n",
      " 6   occupation       30694 non-null  object\n",
      " 7   relationship     32537 non-null  object\n",
      " 8   race             32537 non-null  object\n",
      " 9   sex              32537 non-null  object\n",
      " 10  capital-gain     32537 non-null  object\n",
      " 11  capital-loss     32537 non-null  object\n",
      " 12  hours-per_week   32537 non-null  object\n",
      " 13  native-country   31955 non-null  object\n",
      " 14  income-per-year  32537 non-null  object\n",
      "dtypes: object(15)\n",
      "memory usage: 4.0+ MB\n"
     ]
    }
   ],
   "source": [
    "# Information about Non-Null count\n",
    "adult_dataset.info()"
   ]
  },
  {
   "cell_type": "code",
   "execution_count": 90,
   "metadata": {},
   "outputs": [
    {
     "data": {
      "text/html": [
       "<div>\n",
       "<style scoped>\n",
       "    .dataframe tbody tr th:only-of-type {\n",
       "        vertical-align: middle;\n",
       "    }\n",
       "\n",
       "    .dataframe tbody tr th {\n",
       "        vertical-align: top;\n",
       "    }\n",
       "\n",
       "    .dataframe thead th {\n",
       "        text-align: right;\n",
       "    }\n",
       "</style>\n",
       "<table border=\"1\" class=\"dataframe\">\n",
       "  <thead>\n",
       "    <tr style=\"text-align: right;\">\n",
       "      <th></th>\n",
       "      <th>age</th>\n",
       "      <th>workclass</th>\n",
       "      <th>fnlwgt</th>\n",
       "      <th>education</th>\n",
       "      <th>education-num</th>\n",
       "      <th>marital-status</th>\n",
       "      <th>occupation</th>\n",
       "      <th>relationship</th>\n",
       "      <th>race</th>\n",
       "      <th>sex</th>\n",
       "      <th>capital-gain</th>\n",
       "      <th>capital-loss</th>\n",
       "      <th>hours-per_week</th>\n",
       "      <th>native-country</th>\n",
       "      <th>income-per-year</th>\n",
       "    </tr>\n",
       "  </thead>\n",
       "  <tbody>\n",
       "    <tr>\n",
       "      <th>count</th>\n",
       "      <td>32537</td>\n",
       "      <td>30701</td>\n",
       "      <td>32537</td>\n",
       "      <td>32537</td>\n",
       "      <td>32537</td>\n",
       "      <td>32537</td>\n",
       "      <td>30694</td>\n",
       "      <td>32537</td>\n",
       "      <td>32537</td>\n",
       "      <td>32537</td>\n",
       "      <td>32537</td>\n",
       "      <td>32537</td>\n",
       "      <td>32537</td>\n",
       "      <td>31955</td>\n",
       "      <td>32537</td>\n",
       "    </tr>\n",
       "    <tr>\n",
       "      <th>unique</th>\n",
       "      <td>73</td>\n",
       "      <td>8</td>\n",
       "      <td>21648</td>\n",
       "      <td>16</td>\n",
       "      <td>16</td>\n",
       "      <td>7</td>\n",
       "      <td>14</td>\n",
       "      <td>6</td>\n",
       "      <td>5</td>\n",
       "      <td>2</td>\n",
       "      <td>119</td>\n",
       "      <td>92</td>\n",
       "      <td>94</td>\n",
       "      <td>41</td>\n",
       "      <td>2</td>\n",
       "    </tr>\n",
       "    <tr>\n",
       "      <th>top</th>\n",
       "      <td>36</td>\n",
       "      <td>Private</td>\n",
       "      <td>164190</td>\n",
       "      <td>HS-grad</td>\n",
       "      <td>9</td>\n",
       "      <td>Married-civ-spouse</td>\n",
       "      <td>Prof-specialty</td>\n",
       "      <td>Husband</td>\n",
       "      <td>White</td>\n",
       "      <td>Male</td>\n",
       "      <td>0</td>\n",
       "      <td>0</td>\n",
       "      <td>40</td>\n",
       "      <td>United-States</td>\n",
       "      <td>&lt;=50K</td>\n",
       "    </tr>\n",
       "    <tr>\n",
       "      <th>freq</th>\n",
       "      <td>898</td>\n",
       "      <td>22673</td>\n",
       "      <td>13</td>\n",
       "      <td>10494</td>\n",
       "      <td>10494</td>\n",
       "      <td>14970</td>\n",
       "      <td>4136</td>\n",
       "      <td>13187</td>\n",
       "      <td>27795</td>\n",
       "      <td>21775</td>\n",
       "      <td>29825</td>\n",
       "      <td>31018</td>\n",
       "      <td>15204</td>\n",
       "      <td>29153</td>\n",
       "      <td>24698</td>\n",
       "    </tr>\n",
       "  </tbody>\n",
       "</table>\n",
       "</div>"
      ],
      "text/plain": [
       "          age workclass   fnlwgt education education-num       marital-status  \\\n",
       "count   32537     30701    32537     32537         32537                32537   \n",
       "unique     73         8    21648        16            16                    7   \n",
       "top        36   Private   164190   HS-grad             9   Married-civ-spouse   \n",
       "freq      898     22673       13     10494         10494                14970   \n",
       "\n",
       "             occupation relationship    race    sex capital-gain capital-loss  \\\n",
       "count             30694        32537   32537  32537        32537        32537   \n",
       "unique               14            6       5      2          119           92   \n",
       "top      Prof-specialty      Husband   White   Male            0            0   \n",
       "freq               4136        13187   27795  21775        29825        31018   \n",
       "\n",
       "       hours-per_week  native-country income-per-year  \n",
       "count           32537           31955           32537  \n",
       "unique             94              41               2  \n",
       "top                40   United-States           <=50K  \n",
       "freq            15204           29153           24698  "
      ]
     },
     "execution_count": 90,
     "metadata": {},
     "output_type": "execute_result"
    }
   ],
   "source": [
    "# Statistical Data\n",
    "adult_dataset.describe()"
   ]
  },
  {
   "cell_type": "markdown",
   "metadata": {},
   "source": [
    "You can see that the capital-gain and the Capital-loss of the dataset is 0 which is very unfamiliar with the values within the dataset. So take a mark on that because we need to fix that problem."
   ]
  },
  {
   "cell_type": "code",
   "execution_count": 91,
   "metadata": {},
   "outputs": [
    {
     "name": "stdout",
     "output_type": "stream",
     "text": [
      "income-per-year\n",
      "<=50K    24698\n",
      ">50K      7839\n",
      "Name: count, dtype: int64\n"
     ]
    }
   ],
   "source": [
    "# Value count between people who earn more than 50K and not\n",
    "print(adult_dataset['income-per-year'].value_counts())"
   ]
  },
  {
   "cell_type": "markdown",
   "metadata": {},
   "source": [
    "There are some ___null values___ in the dataset therefore it needed to be fixed.\n",
    "\n",
    "1. workclass      = 1836 missing\n",
    "2. occupation     = 1843 missing\n",
    "3. native-country =  582 missing"
   ]
  },
  {
   "cell_type": "code",
   "execution_count": 92,
   "metadata": {},
   "outputs": [
    {
     "name": "stdout",
     "output_type": "stream",
     "text": [
      "      age workclass   fnlwgt      education education-num  \\\n",
      "27     54      <NA>   180211   Some-college            10   \n",
      "61     32      <NA>   293936        7th-8th             4   \n",
      "69     25      <NA>   200681   Some-college            10   \n",
      "77     67      <NA>   212759           10th             6   \n",
      "106    17      <NA>   304873           10th             6   \n",
      "...    ..       ...      ...            ...           ...   \n",
      "32530  35      <NA>   320084      Bachelors            13   \n",
      "32531  30      <NA>    33811      Bachelors            13   \n",
      "32539  71      <NA>   287372      Doctorate            16   \n",
      "32541  41      <NA>   202822        HS-grad             9   \n",
      "32542  72      <NA>   129912        HS-grad             9   \n",
      "\n",
      "               marital-status occupation    relationship                 race  \\\n",
      "27         Married-civ-spouse       <NA>         Husband   Asian-Pac-Islander   \n",
      "61      Married-spouse-absent       <NA>   Not-in-family                White   \n",
      "69              Never-married       <NA>       Own-child                White   \n",
      "77         Married-civ-spouse       <NA>         Husband                White   \n",
      "106             Never-married       <NA>       Own-child                White   \n",
      "...                       ...        ...             ...                  ...   \n",
      "32530      Married-civ-spouse       <NA>            Wife                White   \n",
      "32531           Never-married       <NA>   Not-in-family   Asian-Pac-Islander   \n",
      "32539      Married-civ-spouse       <NA>         Husband                White   \n",
      "32541               Separated       <NA>   Not-in-family                Black   \n",
      "32542      Married-civ-spouse       <NA>         Husband                White   \n",
      "\n",
      "           sex capital-gain capital-loss hours-per_week  native-country  \\\n",
      "27        Male            0            0             60           South   \n",
      "61        Male            0            0             40            <NA>   \n",
      "69        Male            0            0             40   United-States   \n",
      "77        Male            0            0              2   United-States   \n",
      "106     Female        34095            0             32   United-States   \n",
      "...        ...          ...          ...            ...             ...   \n",
      "32530   Female            0            0             55   United-States   \n",
      "32531   Female            0            0             99   United-States   \n",
      "32539     Male            0            0             10   United-States   \n",
      "32541   Female            0            0             32   United-States   \n",
      "32542     Male            0            0             25   United-States   \n",
      "\n",
      "      income-per-year  \n",
      "27               >50K  \n",
      "61              <=50K  \n",
      "69              <=50K  \n",
      "77              <=50K  \n",
      "106             <=50K  \n",
      "...               ...  \n",
      "32530            >50K  \n",
      "32531           <=50K  \n",
      "32539            >50K  \n",
      "32541           <=50K  \n",
      "32542           <=50K  \n",
      "\n",
      "[1843 rows x 15 columns]\n"
     ]
    }
   ],
   "source": [
    "# Checking the people that doesn't have an occupation\n",
    "\n",
    "people_without_occupation = adult_dataset[adult_dataset['occupation'].isna()]\n",
    "\n",
    "# Print rows with missing values\n",
    "print(people_without_occupation)"
   ]
  },
  {
   "cell_type": "code",
   "execution_count": 93,
   "metadata": {},
   "outputs": [
    {
     "data": {
      "image/png": "[encoded data removed]",
      "text/plain": [
       "<Figure size 1200x500 with 2 Axes>"
      ]
     },
     "metadata": {},
     "output_type": "display_data"
    }
   ],
   "source": [
    "# Males and Females who doesn't have occupation record but but the income per year > 50k plot\n",
    "high_income_jobless_people = people_without_occupation[people_without_occupation['income-per-year'] == '>50K']\n",
    "\n",
    "# Males and Females who doesn't have occupation record but but the income per year <= 50k plot\n",
    "low_income_jobless_people  = people_without_occupation[people_without_occupation['income-per-year'] == '<=50K']\n",
    "\n",
    "\n",
    "# Creating a subplot inorder to show them side by side\n",
    "fig, axes = plt.subplots(1, 2, figsize=(12, 5))\n",
    "\n",
    "axes[0].bar(['Male', 'Female'], high_income_jobless_people['sex'].value_counts())\n",
    "axes[0].set_xlabel('Sex')\n",
    "axes[0].set_ylabel('Count')\n",
    "axes[0].set_title('Counts of People without Occupation with Income > 50K per year')\n",
    "\n",
    "\n",
    "axes[1].bar(['Male', 'Female'], low_income_jobless_people['sex'].value_counts())\n",
    "axes[1].set_xlabel('Sex')\n",
    "axes[1].set_ylabel('Count')\n",
    "axes[1].set_title('Counts of People without Occupation with Income <= 50K per year')\n",
    "\n",
    "plt.tight_layout()\n",
    "plt.show()"
   ]
  },
  {
   "cell_type": "markdown",
   "metadata": {},
   "source": [
    "To above plot we can see that that some people earn more than 50k even they doesn't have any records about their occupation or the workclass. But there are some people who doesn't have occupation as well as doesn't earn 50k per year. Therefore first let's get rid of them values. We can fill those values with none but we cannot completely sure that these people doesn't have any occupation or maybe the records of their occupations did not saved. Therefore dropping them is the best solution."
   ]
  },
  {
   "cell_type": "markdown",
   "metadata": {},
   "source": [
    "#### Dropping the rows which doesnt have any records of the occupation as well as  with the income <= 50K"
   ]
  },
  {
   "cell_type": "code",
   "execution_count": 94,
   "metadata": {},
   "outputs": [
    {
     "data": {
      "text/html": [
       "<div>\n",
       "<style scoped>\n",
       "    .dataframe tbody tr th:only-of-type {\n",
       "        vertical-align: middle;\n",
       "    }\n",
       "\n",
       "    .dataframe tbody tr th {\n",
       "        vertical-align: top;\n",
       "    }\n",
       "\n",
       "    .dataframe thead th {\n",
       "        text-align: right;\n",
       "    }\n",
       "</style>\n",
       "<table border=\"1\" class=\"dataframe\">\n",
       "  <thead>\n",
       "    <tr style=\"text-align: right;\">\n",
       "      <th></th>\n",
       "      <th>age</th>\n",
       "      <th>workclass</th>\n",
       "      <th>fnlwgt</th>\n",
       "      <th>education</th>\n",
       "      <th>education-num</th>\n",
       "      <th>marital-status</th>\n",
       "      <th>occupation</th>\n",
       "      <th>relationship</th>\n",
       "      <th>race</th>\n",
       "      <th>sex</th>\n",
       "      <th>capital-gain</th>\n",
       "      <th>capital-loss</th>\n",
       "      <th>hours-per_week</th>\n",
       "      <th>native-country</th>\n",
       "      <th>income-per-year</th>\n",
       "    </tr>\n",
       "  </thead>\n",
       "  <tbody>\n",
       "  </tbody>\n",
       "</table>\n",
       "</div>"
      ],
      "text/plain": [
       "Empty DataFrame\n",
       "Columns: [age, workclass, fnlwgt, education, education-num, marital-status, occupation, relationship, race, sex, capital-gain, capital-loss, hours-per_week, native-country, income-per-year]\n",
       "Index: []"
      ]
     },
     "execution_count": 94,
     "metadata": {},
     "output_type": "execute_result"
    }
   ],
   "source": [
    "adult_dataset = adult_dataset.drop(adult_dataset[(adult_dataset['occupation'].isna()) & (adult_dataset['income-per-year'] == '<=50K')].index)\n",
    "\n",
    "# Checking if we get rid of those values\n",
    "adult_dataset[(adult_dataset['occupation'].isna()) & (adult_dataset['income-per-year'] == '<=50K')]"
   ]
  },
  {
   "cell_type": "markdown",
   "metadata": {},
   "source": [
    "Well We can see that those data points are completely gone. Lets consider the other values need to be handled.\n",
    "1. People who doesn't have a occupation record and the year income is greater than 50K.\n",
    "2. People who doesn't have a native-country record."
   ]
  },
  {
   "cell_type": "code",
   "execution_count": 95,
   "metadata": {},
   "outputs": [
    {
     "name": "stdout",
     "output_type": "stream",
     "text": [
      "sex\n",
      " Male      2.087087\n",
      " Female    4.410517\n",
      "Name: count, dtype: float64\n",
      "total = 6.497604474703711\n"
     ]
    }
   ],
   "source": [
    "# Lets take the percentage of people who doesn't have occupation and earn more than 50k.\n",
    "high_income_people  = adult_dataset[adult_dataset['income-per-year'] == '>50K']\n",
    "high_income_jobless_people_percentage = (high_income_jobless_people['sex'].value_counts() / high_income_people['sex'].value_counts()) * 100\n",
    "print(high_income_jobless_people_percentage)\n",
    "print(f'total = {high_income_jobless_people_percentage.sum()}')"
   ]
  },
  {
   "cell_type": "markdown",
   "metadata": {},
   "source": [
    "Its like 6.5 percent of the total number of records with the people who earn more than 50K per year. we cannot remove those values because the ratio between the earnings more than 50K is kind of large. Therefore Lets choose a method to fill those values practically and domain-wise acceptable.\n",
    "\n",
    "Ways of filling the data.\n",
    "\n",
    "1. Fill values with mode\n",
    "2. Try building a prediction model to predict the occupation based on the given features."
   ]
  },
  {
   "cell_type": "code",
   "execution_count": 96,
   "metadata": {},
   "outputs": [
    {
     "name": "stdout",
     "output_type": "stream",
     "text": [
      "0     Exec-managerial\n",
      "Name: occupation, dtype: object\n",
      "7           Exec-managerial\n",
      "8            Prof-specialty\n",
      "9           Exec-managerial\n",
      "10          Exec-managerial\n",
      "11           Prof-specialty\n",
      "                ...        \n",
      "32539                  <NA>\n",
      "32545          Adm-clerical\n",
      "32554       Exec-managerial\n",
      "32557     Machine-op-inspct\n",
      "32560       Exec-managerial\n",
      "Name: occupation, Length: 7839, dtype: object\n"
     ]
    }
   ],
   "source": [
    "# Mode of the occupations with people who have higher income.\n",
    "mode_occupation_G50K = adult_dataset[adult_dataset['income-per-year'] == '>50K']['occupation'].mode()\n",
    "print(mode_occupation_G50K)\n",
    "\n",
    "# Other Occupation of other higher income people\n",
    "print(adult_dataset[adult_dataset['income-per-year'] == '>50K']['occupation'])"
   ]
  },
  {
   "cell_type": "markdown",
   "metadata": {},
   "source": [
    "#### Filling the Occupation of higher income people based on occupation mode"
   ]
  },
  {
   "cell_type": "code",
   "execution_count": 97,
   "metadata": {},
   "outputs": [
    {
     "name": "stdout",
     "output_type": "stream",
     "text": [
      "<class 'pandas.core.frame.DataFrame'>\n",
      "Index: 30885 entries, 0 to 32560\n",
      "Data columns (total 15 columns):\n",
      " #   Column           Non-Null Count  Dtype \n",
      "---  ------           --------------  ----- \n",
      " 0   age              30885 non-null  object\n",
      " 1   workclass        30694 non-null  object\n",
      " 2   fnlwgt           30885 non-null  object\n",
      " 3   education        30885 non-null  object\n",
      " 4   education-num    30885 non-null  object\n",
      " 5   marital-status   30885 non-null  object\n",
      " 6   occupation       30885 non-null  object\n",
      " 7   relationship     30885 non-null  object\n",
      " 8   race             30885 non-null  object\n",
      " 9   sex              30885 non-null  object\n",
      " 10  capital-gain     30885 non-null  object\n",
      " 11  capital-loss     30885 non-null  object\n",
      " 12  hours-per_week   30885 non-null  object\n",
      " 13  native-country   30326 non-null  object\n",
      " 14  income-per-year  30885 non-null  object\n",
      "dtypes: object(15)\n",
      "memory usage: 3.8+ MB\n"
     ]
    }
   ],
   "source": [
    "# Filling the occupation data column\n",
    "adult_dataset['occupation'].fillna(mode_occupation_G50K.values[0],inplace=True)\n",
    "\n",
    "# Checking the not null count of the occupation now\n",
    "adult_dataset.info()"
   ]
  },
  {
   "cell_type": "markdown",
   "metadata": {},
   "source": [
    "You can see that now the occupation column is filled and ready to continue with the mode of the occupation of higher-income people __(>50K)__"
   ]
  },
  {
   "cell_type": "markdown",
   "metadata": {},
   "source": [
    "#### Filling the workclass null values"
   ]
  },
  {
   "cell_type": "markdown",
   "metadata": {},
   "source": [
    "Lets plot the most values in workclass for two categories."
   ]
  },
  {
   "cell_type": "code",
   "execution_count": 98,
   "metadata": {},
   "outputs": [
    {
     "data": {
      "text/plain": [
       "Text(0.5, 1.0, 'Higher than 50K workclasses')"
      ]
     },
     "execution_count": 98,
     "metadata": {},
     "output_type": "execute_result"
    },
    {
     "data": {
      "image/png": "[encoded data removed]",
      "text/plain": [
       "<Figure size 2000x500 with 2 Axes>"
      ]
     },
     "metadata": {},
     "output_type": "display_data"
    }
   ],
   "source": [
    "# Plotting null value count with under 50K and more than 50K\n",
    "low_income_workclasses = adult_dataset[adult_dataset['income-per-year'] == '<=50K']['workclass'].value_counts()\n",
    "high_income_workclasses = adult_dataset[adult_dataset['income-per-year'] == '>50K']['workclass'].value_counts()\n",
    "\n",
    "#Custom colors for better definition\n",
    "low_income_colors = ['red','orange']\n",
    "high_income_colors = ['green','lightgreen']\n",
    "\n",
    "# Plotting them side by side\n",
    "fig, axes = plt.subplots(1,2, figsize = (20,5))\n",
    "\n",
    "axes[0].bar(low_income_workclasses.index,low_income_workclasses.values,color=low_income_colors)\n",
    "axes[0].set_xlabel(\"workclasses\")\n",
    "axes[0].set_ylabel(\"Frequent workclasses\")\n",
    "axes[0].set_title(\"Under 50K workclasses\")\n",
    "\n",
    "\n",
    "axes[1].bar(high_income_workclasses.index,high_income_workclasses.values,color=high_income_colors)\n",
    "axes[1].set_xlabel(\"workclasses\")\n",
    "axes[1].set_ylabel(\"Frequent workclasses\")\n",
    "axes[1].set_title(\"Higher than 50K workclasses\")"
   ]
  },
  {
   "cell_type": "markdown",
   "metadata": {},
   "source": [
    " You can see that in Income which is under 50K as well as higher than 50K has alot of people in private sector. So its suitable to fill both those sectors missing values by the mode which is __private sector__. But note that there are some people with ___Without-Pay___ in the under 50K workclasses which is a key-point to consider."
   ]
  },
  {
   "cell_type": "markdown",
   "metadata": {},
   "source": [
    "__Lets fill both missing values by Private sector__"
   ]
  },
  {
   "cell_type": "code",
   "execution_count": 99,
   "metadata": {},
   "outputs": [
    {
     "name": "stdout",
     "output_type": "stream",
     "text": [
      "<class 'pandas.core.frame.DataFrame'>\n",
      "Index: 30885 entries, 0 to 32560\n",
      "Data columns (total 15 columns):\n",
      " #   Column           Non-Null Count  Dtype \n",
      "---  ------           --------------  ----- \n",
      " 0   age              30885 non-null  object\n",
      " 1   workclass        30885 non-null  object\n",
      " 2   fnlwgt           30885 non-null  object\n",
      " 3   education        30885 non-null  object\n",
      " 4   education-num    30885 non-null  object\n",
      " 5   marital-status   30885 non-null  object\n",
      " 6   occupation       30885 non-null  object\n",
      " 7   relationship     30885 non-null  object\n",
      " 8   race             30885 non-null  object\n",
      " 9   sex              30885 non-null  object\n",
      " 10  capital-gain     30885 non-null  object\n",
      " 11  capital-loss     30885 non-null  object\n",
      " 12  hours-per_week   30885 non-null  object\n",
      " 13  native-country   30326 non-null  object\n",
      " 14  income-per-year  30885 non-null  object\n",
      "dtypes: object(15)\n",
      "memory usage: 3.8+ MB\n"
     ]
    }
   ],
   "source": [
    "# Filling the missing values of the workclass column in the dataset\n",
    "workclass_mode = adult_dataset['workclass'].mode()\n",
    "adult_dataset['workclass'].fillna(workclass_mode.values[0],inplace=True)\n",
    "\n",
    "#Check to make sure that we filled those values\n",
    "adult_dataset.info()"
   ]
  },
  {
   "cell_type": "markdown",
   "metadata": {},
   "source": [
    "Now uou can see the workclass column also has been filled."
   ]
  },
  {
   "cell_type": "markdown",
   "metadata": {},
   "source": [
    "### Considering native country column"
   ]
  },
  {
   "cell_type": "markdown",
   "metadata": {},
   "source": [
    "There are 559 missing values in the native country."
   ]
  },
  {
   "cell_type": "code",
   "execution_count": 100,
   "metadata": {},
   "outputs": [],
   "source": [
    "#Value count of the native country seperately low_income and high_income\n",
    "low_income_native_countries = adult_dataset[adult_dataset['income-per-year'] == '<=50K']['native-country'].value_counts()\n",
    "high_income_native_countries = adult_dataset[adult_dataset['income-per-year'] == '>50K']['native-country'].value_counts()"
   ]
  },
  {
   "cell_type": "code",
   "execution_count": 101,
   "metadata": {},
   "outputs": [
    {
     "data": {
      "text/plain": [
       "native-country\n",
       " United-States                 20494\n",
       " Mexico                          573\n",
       " Philippines                     128\n",
       " Puerto-Rico                      97\n",
       " El-Salvador                      91\n",
       " Germany                          84\n",
       " Canada                           71\n",
       " Jamaica                          70\n",
       " Cuba                             67\n",
       " Dominican-Republic               65\n",
       " India                            60\n",
       " Vietnam                          59\n",
       " Guatemala                        58\n",
       " South                            57\n",
       " England                          56\n",
       " Columbia                         54\n",
       " China                            48\n",
       " Poland                           45\n",
       " Italy                            44\n",
       " Haiti                            38\n",
       " Japan                            36\n",
       " Nicaragua                        31\n",
       " Portugal                         30\n",
       " Peru                             28\n",
       " Iran                             24\n",
       " Ecuador                          23\n",
       " Taiwan                           23\n",
       " Greece                           21\n",
       " Ireland                          19\n",
       " Trinadad&Tobago                  16\n",
       " Laos                             15\n",
       " France                           15\n",
       " Thailand                         14\n",
       " Outlying-US(Guam-USVI-etc)       14\n",
       " Hong                             13\n",
       " Cambodia                         11\n",
       " Honduras                         11\n",
       " Yugoslavia                       10\n",
       " Hungary                          10\n",
       " Scotland                          9\n",
       " Holand-Netherlands                1\n",
       "Name: count, dtype: int64"
      ]
     },
     "execution_count": 101,
     "metadata": {},
     "output_type": "execute_result"
    }
   ],
   "source": [
    "# Low income people country values\n",
    "low_income_native_countries"
   ]
  },
  {
   "cell_type": "code",
   "execution_count": 102,
   "metadata": {},
   "outputs": [
    {
     "data": {
      "text/plain": [
       "native-country\n",
       " United-States         7169\n",
       " Philippines             61\n",
       " Germany                 44\n",
       " India                   40\n",
       " Canada                  39\n",
       " Mexico                  33\n",
       " England                 30\n",
       " Italy                   25\n",
       " Cuba                    25\n",
       " Japan                   24\n",
       " Taiwan                  20\n",
       " China                   20\n",
       " Iran                    18\n",
       " South                   16\n",
       " Puerto-Rico             12\n",
       " Poland                  12\n",
       " France                  12\n",
       " Jamaica                 10\n",
       " El-Salvador              9\n",
       " Greece                   8\n",
       " Cambodia                 7\n",
       " Hong                     6\n",
       " Yugoslavia               6\n",
       " Ireland                  5\n",
       " Vietnam                  5\n",
       " Portugal                 4\n",
       " Haiti                    4\n",
       " Ecuador                  4\n",
       " Thailand                 3\n",
       " Hungary                  3\n",
       " Guatemala                3\n",
       " Scotland                 3\n",
       " Nicaragua                2\n",
       " Trinadad&Tobago          2\n",
       " Laos                     2\n",
       " Columbia                 2\n",
       " Dominican-Republic       2\n",
       " Peru                     2\n",
       " Honduras                 1\n",
       "Name: count, dtype: int64"
      ]
     },
     "execution_count": 102,
     "metadata": {},
     "output_type": "execute_result"
    }
   ],
   "source": [
    "# High income people native countries\n",
    "high_income_native_countries"
   ]
  },
  {
   "cell_type": "markdown",
   "metadata": {},
   "source": [
    "Well you can see that this dataset msotly relies on United states data. so the most of the people who has higher income as well as lower income defnitelty US. Lets check the value count of the missing values with compare to the income. The Dataset is biased based on the current Data."
   ]
  },
  {
   "cell_type": "code",
   "execution_count": 103,
   "metadata": {},
   "outputs": [
    {
     "name": "stdout",
     "output_type": "stream",
     "text": [
      "Number of missing data rows (native country) for higher income people: 146\n",
      "Number of missing data rows (native country) for lower income people: 413\n"
     ]
    }
   ],
   "source": [
    "# Count missing values for higher income people (>50K)\n",
    "missing_high_income = adult_dataset[adult_dataset[\"income-per-year\"] == \">50K\"]['native-country'].isna().sum()\n",
    "print(f'Number of missing data rows (native country) for higher income people: {missing_high_income}')\n",
    "\n",
    "# Count missing values for lower income people (<=50K)\n",
    "missing_low_income = adult_dataset[adult_dataset[\"income-per-year\"] == \"<=50K\"]['native-country'].isna().sum()\n",
    "print(f'Number of missing data rows (native country) for lower income people: {missing_low_income}')"
   ]
  },
  {
   "cell_type": "markdown",
   "metadata": {},
   "source": [
    "In order to make the dataset balance as well as correct. I'll Remove the native country missing values within people who earn under 50K per Year."
   ]
  },
  {
   "cell_type": "code",
   "execution_count": 104,
   "metadata": {},
   "outputs": [],
   "source": [
    "# Removing the Native Country missing data of the people\n",
    "adult_dataset = adult_dataset.drop(adult_dataset[(adult_dataset['native-country'].isna()) & (adult_dataset['income-per-year'] == '<=50K')].index)\n"
   ]
  },
  {
   "cell_type": "markdown",
   "metadata": {},
   "source": [
    "Let's Check the dropped data."
   ]
  },
  {
   "cell_type": "code",
   "execution_count": 105,
   "metadata": {},
   "outputs": [
    {
     "name": "stdout",
     "output_type": "stream",
     "text": [
      "Number of missing data rows (native country) for higher income people: 146\n",
      "Number of missing data rows (native country) for lower income people: 0\n"
     ]
    }
   ],
   "source": [
    "# Count missing values for higher income people (>50K)\n",
    "missing_high_income = adult_dataset[adult_dataset[\"income-per-year\"] == \">50K\"]['native-country'].isna().sum()\n",
    "print(f'Number of missing data rows (native country) for higher income people: {missing_high_income}')\n",
    "\n",
    "# Count missing values for lower income people (<=50K)\n",
    "missing_low_income = adult_dataset[adult_dataset[\"income-per-year\"] == \"<=50K\"]['native-country'].isna().sum()\n",
    "print(f'Number of missing data rows (native country) for lower income people: {missing_low_income}')"
   ]
  },
  {
   "cell_type": "markdown",
   "metadata": {},
   "source": [
    "Now You can see that the native country missing records of the people who earn under 50K are completely gone. But This Dataset has biasness We cannot remove the native-country records of the people who earn more than 50K per month. Therefore we have to choose a method to fill those data. I think I'm going with mode to fill those data because the other country ratio is completely compares to others."
   ]
  },
  {
   "cell_type": "code",
   "execution_count": 106,
   "metadata": {},
   "outputs": [],
   "source": [
    "# Filling the Missing country records of the people who earn more than 50K per year\n",
    "adult_dataset['native-country'].fillna(adult_dataset['native-country'].mode()[0], inplace=True)"
   ]
  },
  {
   "cell_type": "markdown",
   "metadata": {},
   "source": [
    "Now Those values are filled with the mode."
   ]
  },
  {
   "cell_type": "code",
   "execution_count": 107,
   "metadata": {},
   "outputs": [
    {
     "name": "stdout",
     "output_type": "stream",
     "text": [
      "Number of missing data rows (native country) for higher income people: 0\n"
     ]
    }
   ],
   "source": [
    "# Count missing values for higher income people (>50K)\n",
    "missing_high_income = adult_dataset[adult_dataset[\"income-per-year\"] == \">50K\"]['native-country'].isna().sum()\n",
    "print(f'Number of missing data rows (native country) for higher income people: {missing_high_income}')"
   ]
  },
  {
   "cell_type": "markdown",
   "metadata": {},
   "source": [
    "Now We completely get rid of the missing values in the dataset. Every value is completed."
   ]
  },
  {
   "cell_type": "markdown",
   "metadata": {},
   "source": [
    "### Capital-Loss and Capital-Gain values fix"
   ]
  },
  {
   "cell_type": "markdown",
   "metadata": {},
   "source": [
    "Let's find out how many 0 values in the capital-loss and capital-gain columns."
   ]
  },
  {
   "cell_type": "code",
   "execution_count": 119,
   "metadata": {},
   "outputs": [
    {
     "data": {
      "text/plain": [
       "capital-gain\n",
       " 0        27852\n",
       " 15024      347\n",
       " 7688       284\n",
       " 7298       246\n",
       " 99999      159\n",
       "          ...  \n",
       " 2993         1\n",
       " 1455         1\n",
       " 4931         1\n",
       " 22040        1\n",
       " 1086         1\n",
       "Name: count, Length: 118, dtype: int64"
      ]
     },
     "execution_count": 119,
     "metadata": {},
     "output_type": "execute_result"
    }
   ],
   "source": [
    "# Capital gain values\n",
    "adult_dataset['capital-gain'].value_counts()"
   ]
  },
  {
   "cell_type": "code",
   "execution_count": 118,
   "metadata": {},
   "outputs": [
    {
     "data": {
      "text/plain": [
       "capital-loss\n",
       " 0       29009\n",
       " 1902      202\n",
       " 1977      168\n",
       " 1887      159\n",
       " 1848       51\n",
       "         ...  \n",
       " 2457        1\n",
       " 4356        1\n",
       " 1539        1\n",
       " 1844        1\n",
       " 1411        1\n",
       "Name: count, Length: 90, dtype: int64"
      ]
     },
     "execution_count": 118,
     "metadata": {},
     "output_type": "execute_result"
    }
   ],
   "source": [
    "# Capital Loss values\n",
    "adult_dataset['capital-loss'].value_counts()\n"
   ]
  },
  {
   "cell_type": "markdown",
   "metadata": {},
   "source": [
    "you can There"
   ]
  },
  {
   "cell_type": "markdown",
   "metadata": {},
   "source": [
    "Let's See the Current Status of the Dataset After filling missing values, removing duplicates and unecessary values."
   ]
  },
  {
   "cell_type": "markdown",
   "metadata": {},
   "source": [
    "### Statistics after Basic Pre-Processing"
   ]
  },
  {
   "cell_type": "code",
   "execution_count": 108,
   "metadata": {},
   "outputs": [
    {
     "name": "stdout",
     "output_type": "stream",
     "text": [
      "<class 'pandas.core.frame.DataFrame'>\n",
      "Index: 30472 entries, 0 to 32560\n",
      "Data columns (total 15 columns):\n",
      " #   Column           Non-Null Count  Dtype \n",
      "---  ------           --------------  ----- \n",
      " 0   age              30472 non-null  object\n",
      " 1   workclass        30472 non-null  object\n",
      " 2   fnlwgt           30472 non-null  object\n",
      " 3   education        30472 non-null  object\n",
      " 4   education-num    30472 non-null  object\n",
      " 5   marital-status   30472 non-null  object\n",
      " 6   occupation       30472 non-null  object\n",
      " 7   relationship     30472 non-null  object\n",
      " 8   race             30472 non-null  object\n",
      " 9   sex              30472 non-null  object\n",
      " 10  capital-gain     30472 non-null  object\n",
      " 11  capital-loss     30472 non-null  object\n",
      " 12  hours-per_week   30472 non-null  object\n",
      " 13  native-country   30472 non-null  object\n",
      " 14  income-per-year  30472 non-null  object\n",
      "dtypes: object(15)\n",
      "memory usage: 3.7+ MB\n"
     ]
    }
   ],
   "source": [
    "# Basic Info of the Dataset\n",
    "adult_dataset.info()"
   ]
  },
  {
   "cell_type": "markdown",
   "metadata": {},
   "source": [
    "You can see that there are no missing values and the dataset is completely filled with the data records 0f 30,472"
   ]
  },
  {
   "cell_type": "code",
   "execution_count": 109,
   "metadata": {},
   "outputs": [
    {
     "data": {
      "text/html": [
       "<div>\n",
       "<style scoped>\n",
       "    .dataframe tbody tr th:only-of-type {\n",
       "        vertical-align: middle;\n",
       "    }\n",
       "\n",
       "    .dataframe tbody tr th {\n",
       "        vertical-align: top;\n",
       "    }\n",
       "\n",
       "    .dataframe thead th {\n",
       "        text-align: right;\n",
       "    }\n",
       "</style>\n",
       "<table border=\"1\" class=\"dataframe\">\n",
       "  <thead>\n",
       "    <tr style=\"text-align: right;\">\n",
       "      <th></th>\n",
       "      <th>age</th>\n",
       "      <th>workclass</th>\n",
       "      <th>fnlwgt</th>\n",
       "      <th>education</th>\n",
       "      <th>education-num</th>\n",
       "      <th>marital-status</th>\n",
       "      <th>occupation</th>\n",
       "      <th>relationship</th>\n",
       "      <th>race</th>\n",
       "      <th>sex</th>\n",
       "      <th>capital-gain</th>\n",
       "      <th>capital-loss</th>\n",
       "      <th>hours-per_week</th>\n",
       "      <th>native-country</th>\n",
       "      <th>income-per-year</th>\n",
       "    </tr>\n",
       "  </thead>\n",
       "  <tbody>\n",
       "    <tr>\n",
       "      <th>count</th>\n",
       "      <td>30472</td>\n",
       "      <td>30472</td>\n",
       "      <td>30472</td>\n",
       "      <td>30472</td>\n",
       "      <td>30472</td>\n",
       "      <td>30472</td>\n",
       "      <td>30472</td>\n",
       "      <td>30472</td>\n",
       "      <td>30472</td>\n",
       "      <td>30472</td>\n",
       "      <td>30472</td>\n",
       "      <td>30472</td>\n",
       "      <td>30472</td>\n",
       "      <td>30472</td>\n",
       "      <td>30472</td>\n",
       "    </tr>\n",
       "    <tr>\n",
       "      <th>unique</th>\n",
       "      <td>72</td>\n",
       "      <td>7</td>\n",
       "      <td>20429</td>\n",
       "      <td>16</td>\n",
       "      <td>16</td>\n",
       "      <td>7</td>\n",
       "      <td>14</td>\n",
       "      <td>6</td>\n",
       "      <td>5</td>\n",
       "      <td>2</td>\n",
       "      <td>118</td>\n",
       "      <td>90</td>\n",
       "      <td>94</td>\n",
       "      <td>41</td>\n",
       "      <td>2</td>\n",
       "    </tr>\n",
       "    <tr>\n",
       "      <th>top</th>\n",
       "      <td>36</td>\n",
       "      <td>Private</td>\n",
       "      <td>123011</td>\n",
       "      <td>HS-grad</td>\n",
       "      <td>9</td>\n",
       "      <td>Married-civ-spouse</td>\n",
       "      <td>Exec-managerial</td>\n",
       "      <td>Husband</td>\n",
       "      <td>White</td>\n",
       "      <td>Male</td>\n",
       "      <td>0</td>\n",
       "      <td>0</td>\n",
       "      <td>40</td>\n",
       "      <td>United-States</td>\n",
       "      <td>&lt;=50K</td>\n",
       "    </tr>\n",
       "    <tr>\n",
       "      <th>freq</th>\n",
       "      <td>859</td>\n",
       "      <td>22542</td>\n",
       "      <td>13</td>\n",
       "      <td>9892</td>\n",
       "      <td>9892</td>\n",
       "      <td>14352</td>\n",
       "      <td>4213</td>\n",
       "      <td>12696</td>\n",
       "      <td>26190</td>\n",
       "      <td>20632</td>\n",
       "      <td>27852</td>\n",
       "      <td>29009</td>\n",
       "      <td>14376</td>\n",
       "      <td>27809</td>\n",
       "      <td>22633</td>\n",
       "    </tr>\n",
       "  </tbody>\n",
       "</table>\n",
       "</div>"
      ],
      "text/plain": [
       "          age workclass   fnlwgt education education-num       marital-status  \\\n",
       "count   30472     30472    30472     30472         30472                30472   \n",
       "unique     72         7    20429        16            16                    7   \n",
       "top        36   Private   123011   HS-grad             9   Married-civ-spouse   \n",
       "freq      859     22542       13      9892          9892                14352   \n",
       "\n",
       "              occupation relationship    race    sex capital-gain  \\\n",
       "count              30472        30472   30472  30472        30472   \n",
       "unique                14            6       5      2          118   \n",
       "top      Exec-managerial      Husband   White   Male            0   \n",
       "freq                4213        12696   26190  20632        27852   \n",
       "\n",
       "       capital-loss hours-per_week  native-country income-per-year  \n",
       "count         30472          30472           30472           30472  \n",
       "unique           90             94              41               2  \n",
       "top               0             40   United-States           <=50K  \n",
       "freq          29009          14376           27809           22633  "
      ]
     },
     "execution_count": 109,
     "metadata": {},
     "output_type": "execute_result"
    }
   ],
   "source": [
    "# Basic Satistical Details of the Data\n",
    "adult_dataset.describe()"
   ]
  }
 ],
 "metadata": {
  "kernelspec": {
   "display_name": "Python 3",
   "language": "python",
   "name": "python3"
  },
  "language_info": {
   "codemirror_mode": {
    "name": "ipython",
    "version": 3
   },
   "file_extension": ".py",
   "mimetype": "text/x-python",
   "name": "python",
   "nbconvert_exporter": "python",
   "pygments_lexer": "ipython3",
   "version": "3.11.5"
  }
 },
 "nbformat": 4,
 "nbformat_minor": 2
}
